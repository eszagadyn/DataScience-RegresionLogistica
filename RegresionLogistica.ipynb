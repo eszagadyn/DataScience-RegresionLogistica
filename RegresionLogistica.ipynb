{
 "cells": [
  {
   "cell_type": "markdown",
   "id": "226a201c",
   "metadata": {},
   "source": [
    "# Elaboración de modelo de Regresión Logística para predecir lluvia mayor a 10mm en las próximas 24 horas."
   ]
  },
  {
   "cell_type": "markdown",
   "id": "fc1ad798",
   "metadata": {},
   "source": [
    "## Dataset obtenido de kaggle.com\n",
    "\n",
    "- El data set corresponde al historial de datos meteorológicos de Australia comprendido entre 2008-2018\n",
    "- El data set nos permitiría predecir, en función de una serie de variables, si al día siguiente lloverá\n",
    "- La variable target a precedir es \"RainTomorrow\"\n",
    "- Información y descarga del data set publico en el siguiente link <https://www.kaggle.com/jsphyg/weather-dataset-rattle-package>"
   ]
  },
  {
   "cell_type": "code",
   "execution_count": 1,
   "id": "7c4486b7",
   "metadata": {},
   "outputs": [],
   "source": [
    "import pandas as pd"
   ]
  },
  {
   "cell_type": "code",
   "execution_count": 2,
   "id": "08890e59",
   "metadata": {},
   "outputs": [
    {
     "data": {
      "text/html": [
       "<div>\n",
       "<style scoped>\n",
       "    .dataframe tbody tr th:only-of-type {\n",
       "        vertical-align: middle;\n",
       "    }\n",
       "\n",
       "    .dataframe tbody tr th {\n",
       "        vertical-align: top;\n",
       "    }\n",
       "\n",
       "    .dataframe thead th {\n",
       "        text-align: right;\n",
       "    }\n",
       "</style>\n",
       "<table border=\"1\" class=\"dataframe\">\n",
       "  <thead>\n",
       "    <tr style=\"text-align: right;\">\n",
       "      <th></th>\n",
       "      <th>Date</th>\n",
       "      <th>Location</th>\n",
       "      <th>MinTemp</th>\n",
       "      <th>MaxTemp</th>\n",
       "      <th>Rainfall</th>\n",
       "      <th>Evaporation</th>\n",
       "      <th>Sunshine</th>\n",
       "      <th>WindGustDir</th>\n",
       "      <th>WindGustSpeed</th>\n",
       "      <th>WindDir9am</th>\n",
       "      <th>...</th>\n",
       "      <th>Humidity9am</th>\n",
       "      <th>Humidity3pm</th>\n",
       "      <th>Pressure9am</th>\n",
       "      <th>Pressure3pm</th>\n",
       "      <th>Cloud9am</th>\n",
       "      <th>Cloud3pm</th>\n",
       "      <th>Temp9am</th>\n",
       "      <th>Temp3pm</th>\n",
       "      <th>RainToday</th>\n",
       "      <th>RainTomorrow</th>\n",
       "    </tr>\n",
       "  </thead>\n",
       "  <tbody>\n",
       "    <tr>\n",
       "      <th>0</th>\n",
       "      <td>2008-12-01</td>\n",
       "      <td>Albury</td>\n",
       "      <td>13.4</td>\n",
       "      <td>22.9</td>\n",
       "      <td>0.6</td>\n",
       "      <td>NaN</td>\n",
       "      <td>NaN</td>\n",
       "      <td>W</td>\n",
       "      <td>44.0</td>\n",
       "      <td>W</td>\n",
       "      <td>...</td>\n",
       "      <td>71.0</td>\n",
       "      <td>22.0</td>\n",
       "      <td>1007.7</td>\n",
       "      <td>1007.1</td>\n",
       "      <td>8.0</td>\n",
       "      <td>NaN</td>\n",
       "      <td>16.9</td>\n",
       "      <td>21.8</td>\n",
       "      <td>No</td>\n",
       "      <td>No</td>\n",
       "    </tr>\n",
       "    <tr>\n",
       "      <th>1</th>\n",
       "      <td>2008-12-02</td>\n",
       "      <td>Albury</td>\n",
       "      <td>7.4</td>\n",
       "      <td>25.1</td>\n",
       "      <td>0.0</td>\n",
       "      <td>NaN</td>\n",
       "      <td>NaN</td>\n",
       "      <td>WNW</td>\n",
       "      <td>44.0</td>\n",
       "      <td>NNW</td>\n",
       "      <td>...</td>\n",
       "      <td>44.0</td>\n",
       "      <td>25.0</td>\n",
       "      <td>1010.6</td>\n",
       "      <td>1007.8</td>\n",
       "      <td>NaN</td>\n",
       "      <td>NaN</td>\n",
       "      <td>17.2</td>\n",
       "      <td>24.3</td>\n",
       "      <td>No</td>\n",
       "      <td>No</td>\n",
       "    </tr>\n",
       "  </tbody>\n",
       "</table>\n",
       "<p>2 rows × 23 columns</p>\n",
       "</div>"
      ],
      "text/plain": [
       "         Date Location  MinTemp  MaxTemp  Rainfall  Evaporation  Sunshine  \\\n",
       "0  2008-12-01   Albury     13.4     22.9       0.6          NaN       NaN   \n",
       "1  2008-12-02   Albury      7.4     25.1       0.0          NaN       NaN   \n",
       "\n",
       "  WindGustDir  WindGustSpeed WindDir9am  ... Humidity9am  Humidity3pm  \\\n",
       "0           W           44.0          W  ...        71.0         22.0   \n",
       "1         WNW           44.0        NNW  ...        44.0         25.0   \n",
       "\n",
       "   Pressure9am  Pressure3pm  Cloud9am  Cloud3pm  Temp9am  Temp3pm  RainToday  \\\n",
       "0       1007.7       1007.1       8.0       NaN     16.9     21.8         No   \n",
       "1       1010.6       1007.8       NaN       NaN     17.2     24.3         No   \n",
       "\n",
       "   RainTomorrow  \n",
       "0            No  \n",
       "1            No  \n",
       "\n",
       "[2 rows x 23 columns]"
      ]
     },
     "execution_count": 2,
     "metadata": {},
     "output_type": "execute_result"
    }
   ],
   "source": [
    "df = pd.read_csv('weatherAUS.zip')\n",
    "df.head(2)"
   ]
  },
  {
   "cell_type": "code",
   "execution_count": 3,
   "id": "ff1c748d",
   "metadata": {},
   "outputs": [
    {
     "data": {
      "text/plain": [
       "(145460, 23)"
      ]
     },
     "execution_count": 3,
     "metadata": {},
     "output_type": "execute_result"
    }
   ],
   "source": [
    "df.shape"
   ]
  },
  {
   "cell_type": "code",
   "execution_count": 4,
   "id": "d9969822",
   "metadata": {},
   "outputs": [],
   "source": [
    "#df.describe()"
   ]
  },
  {
   "cell_type": "code",
   "execution_count": 5,
   "id": "4b9b6022",
   "metadata": {},
   "outputs": [],
   "source": [
    "#df['Location'].value_counts()"
   ]
  },
  {
   "cell_type": "code",
   "execution_count": 6,
   "id": "c0bb37b3",
   "metadata": {},
   "outputs": [
    {
     "data": {
      "text/plain": [
       "Index(['Date', 'Location', 'MinTemp', 'MaxTemp', 'Rainfall', 'Evaporation',\n",
       "       'Sunshine', 'WindGustDir', 'WindGustSpeed', 'WindDir9am', 'WindDir3pm',\n",
       "       'WindSpeed9am', 'WindSpeed3pm', 'Humidity9am', 'Humidity3pm',\n",
       "       'Pressure9am', 'Pressure3pm', 'Cloud9am', 'Cloud3pm', 'Temp9am',\n",
       "       'Temp3pm', 'RainToday', 'RainTomorrow'],\n",
       "      dtype='object')"
      ]
     },
     "execution_count": 6,
     "metadata": {},
     "output_type": "execute_result"
    }
   ],
   "source": [
    "df.columns"
   ]
  },
  {
   "cell_type": "markdown",
   "id": "0f63a2be",
   "metadata": {},
   "source": [
    "### Descripción de las columnas del dataset:\n",
    "\n",
    "- WindGustDir: La dirección de las ráfagas de viento más fuertes del día.\n",
    "- WindGustSpeed: La velocidad del viento más fuerte del día.\n",
    "- MinTemp: La temperatura mínima (°C).\n",
    "- MaxTemp: La temperatura máxima (°C).\n",
    "- WinDir3pm: Dirección del viento a las 3pm.\n",
    "- WindSpeed3pm: Velocidad del viento promedio (km/hr) a las 3pm.\n",
    "- Humidity3pm: Humedad relativa a las 3pm.\n",
    "- Pressure3pm: Presión atmosférica (hPa) a las 3pm.\n",
    "- Rainfall: La cantidad de mm de lluvia caídos en el día.\n",
    "- Evaporation: Medida en mm de la llamada \"Pan Evaporation\" de 24hs a 9 am.\n",
    "- Sunshine: Horas de sol del día.\n",
    "- WinDir9am: Dirección del viento a las 9am.\n",
    "- WindSpeed9am: Velocidad del viento promedio (km/hr) a las 9am.\n",
    "- Humidity9am: Humedad relativa a las 9am.\n",
    "- Pressure9am: Presión atmosférica (hPa) a las 9am.\n",
    "- Cloud9am: Fracción del cielo oscurecido por nubes a las 9am. \"0\" para cielos sin nubes / \"8\" para cielo completamente cubierto de nubes.\n",
    "- Cloud3pm: Fracción del cielo oscurecido por nubes a las 3pm. \"0\" para cielos sin nubes / \"8\" para cielo completamente cubierto de nubes.\n",
    "- Temp9am: Temperatura (°C) a las 9am.\n",
    "- Temp3pm: Temperatura (°C) a las 3pm.\n",
    "- RainToday: Boolean: \"1\" si los mm de precipitación de 0 am a 9 am excede el mm.\n",
    "- RainTomorrow: Boolean: \"1\" si llovió al día siguiente.\n",
    "- Location: El nombre de la estación de clima."
   ]
  },
  {
   "cell_type": "code",
   "execution_count": 7,
   "id": "b4cda56e",
   "metadata": {},
   "outputs": [
    {
     "data": {
      "text/plain": [
       "Sunshine         48.01\n",
       "Evaporation      43.17\n",
       "Cloud3pm         40.81\n",
       "Cloud9am         38.42\n",
       "Pressure9am      10.36\n",
       "Pressure3pm      10.33\n",
       "WindDir9am        7.26\n",
       "WindGustDir       7.10\n",
       "WindGustSpeed     7.06\n",
       "Humidity3pm       3.10\n",
       "WindDir3pm        2.91\n",
       "Temp3pm           2.48\n",
       "RainTomorrow      2.25\n",
       "RainToday         2.24\n",
       "Rainfall          2.24\n",
       "WindSpeed3pm      2.11\n",
       "Humidity9am       1.82\n",
       "WindSpeed9am      1.21\n",
       "Temp9am           1.21\n",
       "MinTemp           1.02\n",
       "MaxTemp           0.87\n",
       "Location          0.00\n",
       "Date              0.00\n",
       "dtype: float64"
      ]
     },
     "execution_count": 7,
     "metadata": {},
     "output_type": "execute_result"
    }
   ],
   "source": [
    "porcentajes=(df.isnull().sum()/(df.isnull().sum()+df.notnull().sum())*100).round(2)\n",
    "porcentajes.sort_values(ascending=False)"
   ]
  },
  {
   "cell_type": "markdown",
   "id": "b95e4e62",
   "metadata": {},
   "source": [
    "\n",
    "### APUNTES DE LA LIMPIEZA DE DATOS:\n",
    "\n",
    "#### Quitaremos 'evaporation', 'sunshine', 'Cloud9am', 'Cloud3am' porque tienen muhcos nulos.\n",
    "\n",
    "#### Luego haremos dropna general.\n",
    "\n",
    "#### Luego prestaremos atención a la correlación entre features, que podría traer problemas de colinealidad."
   ]
  },
  {
   "cell_type": "code",
   "execution_count": 8,
   "id": "da9784eb",
   "metadata": {},
   "outputs": [],
   "source": [
    "df = df.drop(['Evaporation', 'Sunshine', 'Cloud9am', 'Cloud3pm'], axis=1)"
   ]
  },
  {
   "cell_type": "code",
   "execution_count": 9,
   "id": "1b55d3c1",
   "metadata": {},
   "outputs": [],
   "source": [
    "df = df.dropna()"
   ]
  },
  {
   "cell_type": "code",
   "execution_count": 10,
   "id": "e59403ea",
   "metadata": {},
   "outputs": [
    {
     "data": {
      "text/plain": [
       "(112925, 19)"
      ]
     },
     "execution_count": 10,
     "metadata": {},
     "output_type": "execute_result"
    }
   ],
   "source": [
    "df.shape"
   ]
  },
  {
   "cell_type": "code",
   "execution_count": 11,
   "id": "d64d882f",
   "metadata": {},
   "outputs": [
    {
     "data": {
      "text/plain": [
       "No     0.778446\n",
       "Yes    0.221554\n",
       "Name: RainTomorrow, dtype: float64"
      ]
     },
     "execution_count": 11,
     "metadata": {},
     "output_type": "execute_result"
    }
   ],
   "source": [
    "# Balance de la variable objetivo del dataset\n",
    "\n",
    "df['RainTomorrow'].value_counts(normalize=True)"
   ]
  },
  {
   "cell_type": "code",
   "execution_count": 12,
   "id": "57c98dfe",
   "metadata": {},
   "outputs": [
    {
     "data": {
      "text/html": [
       "<div>\n",
       "<style scoped>\n",
       "    .dataframe tbody tr th:only-of-type {\n",
       "        vertical-align: middle;\n",
       "    }\n",
       "\n",
       "    .dataframe tbody tr th {\n",
       "        vertical-align: top;\n",
       "    }\n",
       "\n",
       "    .dataframe thead th {\n",
       "        text-align: right;\n",
       "    }\n",
       "</style>\n",
       "<table border=\"1\" class=\"dataframe\">\n",
       "  <thead>\n",
       "    <tr style=\"text-align: right;\">\n",
       "      <th></th>\n",
       "      <th>Date</th>\n",
       "      <th>Location</th>\n",
       "      <th>MinTemp</th>\n",
       "      <th>MaxTemp</th>\n",
       "      <th>Rainfall</th>\n",
       "      <th>WindGustDir</th>\n",
       "      <th>WindGustSpeed</th>\n",
       "      <th>WindDir9am</th>\n",
       "      <th>WindDir3pm</th>\n",
       "      <th>WindSpeed9am</th>\n",
       "      <th>WindSpeed3pm</th>\n",
       "      <th>Humidity9am</th>\n",
       "      <th>Humidity3pm</th>\n",
       "      <th>Pressure9am</th>\n",
       "      <th>Pressure3pm</th>\n",
       "      <th>Temp9am</th>\n",
       "      <th>Temp3pm</th>\n",
       "      <th>RainToday_Yes</th>\n",
       "      <th>RainTomorrow_Yes</th>\n",
       "    </tr>\n",
       "  </thead>\n",
       "  <tbody>\n",
       "    <tr>\n",
       "      <th>0</th>\n",
       "      <td>2008-12-01</td>\n",
       "      <td>Albury</td>\n",
       "      <td>13.4</td>\n",
       "      <td>22.9</td>\n",
       "      <td>0.6</td>\n",
       "      <td>W</td>\n",
       "      <td>44.0</td>\n",
       "      <td>W</td>\n",
       "      <td>WNW</td>\n",
       "      <td>20.0</td>\n",
       "      <td>24.0</td>\n",
       "      <td>71.0</td>\n",
       "      <td>22.0</td>\n",
       "      <td>1007.7</td>\n",
       "      <td>1007.1</td>\n",
       "      <td>16.9</td>\n",
       "      <td>21.8</td>\n",
       "      <td>0</td>\n",
       "      <td>0</td>\n",
       "    </tr>\n",
       "    <tr>\n",
       "      <th>1</th>\n",
       "      <td>2008-12-02</td>\n",
       "      <td>Albury</td>\n",
       "      <td>7.4</td>\n",
       "      <td>25.1</td>\n",
       "      <td>0.0</td>\n",
       "      <td>WNW</td>\n",
       "      <td>44.0</td>\n",
       "      <td>NNW</td>\n",
       "      <td>WSW</td>\n",
       "      <td>4.0</td>\n",
       "      <td>22.0</td>\n",
       "      <td>44.0</td>\n",
       "      <td>25.0</td>\n",
       "      <td>1010.6</td>\n",
       "      <td>1007.8</td>\n",
       "      <td>17.2</td>\n",
       "      <td>24.3</td>\n",
       "      <td>0</td>\n",
       "      <td>0</td>\n",
       "    </tr>\n",
       "  </tbody>\n",
       "</table>\n",
       "</div>"
      ],
      "text/plain": [
       "         Date Location  MinTemp  MaxTemp  Rainfall WindGustDir  WindGustSpeed  \\\n",
       "0  2008-12-01   Albury     13.4     22.9       0.6           W           44.0   \n",
       "1  2008-12-02   Albury      7.4     25.1       0.0         WNW           44.0   \n",
       "\n",
       "  WindDir9am WindDir3pm  WindSpeed9am  WindSpeed3pm  Humidity9am  Humidity3pm  \\\n",
       "0          W        WNW          20.0          24.0         71.0         22.0   \n",
       "1        NNW        WSW           4.0          22.0         44.0         25.0   \n",
       "\n",
       "   Pressure9am  Pressure3pm  Temp9am  Temp3pm  RainToday_Yes  RainTomorrow_Yes  \n",
       "0       1007.7       1007.1     16.9     21.8              0                 0  \n",
       "1       1010.6       1007.8     17.2     24.3              0                 0  "
      ]
     },
     "execution_count": 12,
     "metadata": {},
     "output_type": "execute_result"
    }
   ],
   "source": [
    "df = pd.get_dummies(df, columns=['RainToday', 'RainTomorrow'], drop_first=True)\n",
    "df.head(2)"
   ]
  },
  {
   "cell_type": "code",
   "execution_count": 13,
   "metadata": {},
   "outputs": [
    {
     "data": {
      "text/plain": [
       "Index(['Date', 'Location', 'MinTemp', 'MaxTemp', 'Rainfall', 'WindGustDir',\n",
       "       'WindGustSpeed', 'WindDir9am', 'WindDir3pm', 'WindSpeed9am',\n",
       "       'WindSpeed3pm', 'Humidity9am', 'Humidity3pm', 'Pressure9am',\n",
       "       'Pressure3pm', 'Temp9am', 'Temp3pm', 'RainToday_Yes',\n",
       "       'RainTomorrow_Yes'],\n",
       "      dtype='object')"
      ]
     },
     "execution_count": 13,
     "metadata": {},
     "output_type": "execute_result"
    }
   ],
   "source": [
    "df.columns"
   ]
  },
  {
   "cell_type": "code",
   "execution_count": 14,
   "metadata": {},
   "outputs": [
    {
     "data": {
      "text/plain": [
       "(112925, 19)"
      ]
     },
     "execution_count": 14,
     "metadata": {},
     "output_type": "execute_result"
    }
   ],
   "source": [
    "df.shape\n"
   ]
  },
  {
   "cell_type": "code",
   "execution_count": 15,
   "id": "4e67df6a",
   "metadata": {},
   "outputs": [
    {
     "data": {
      "text/plain": [
       "0    87556\n",
       "1    25369\n",
       "Name: RainToday_Yes, dtype: int64"
      ]
     },
     "execution_count": 15,
     "metadata": {},
     "output_type": "execute_result"
    }
   ],
   "source": [
    "df['RainToday_Yes'].value_counts()"
   ]
  },
  {
   "cell_type": "code",
   "execution_count": 16,
   "metadata": {},
   "outputs": [
    {
     "data": {
      "text/plain": [
       "0    87906\n",
       "1    25019\n",
       "Name: RainTomorrow_Yes, dtype: int64"
      ]
     },
     "execution_count": 16,
     "metadata": {},
     "output_type": "execute_result"
    }
   ],
   "source": [
    "df['RainTomorrow_Yes'].value_counts()"
   ]
  },
  {
   "cell_type": "markdown",
   "metadata": {},
   "source": [
    "# REGRESIÓN LOGÍSTICA"
   ]
  },
  {
   "cell_type": "code",
   "execution_count": 17,
   "id": "2adfc628",
   "metadata": {},
   "outputs": [],
   "source": [
    "# Defino la matriz de features y variable objetivo\n",
    "\n",
    "\n",
    "X = df[['MinTemp', 'Rainfall', 'WindGustSpeed',\n",
    "       'WindSpeed3pm', 'Humidity3pm',\n",
    "       'Pressure3pm', 'Temp3pm', 'RainToday_Yes']]\n",
    "y = df[\"RainTomorrow_Yes\"]"
   ]
  },
  {
   "cell_type": "code",
   "execution_count": 18,
   "metadata": {},
   "outputs": [
    {
     "data": {
      "text/plain": [
       "(112925, 8)"
      ]
     },
     "execution_count": 18,
     "metadata": {},
     "output_type": "execute_result"
    }
   ],
   "source": [
    "X.shape"
   ]
  },
  {
   "cell_type": "code",
   "execution_count": 19,
   "metadata": {},
   "outputs": [
    {
     "data": {
      "text/plain": [
       "(112925,)"
      ]
     },
     "execution_count": 19,
     "metadata": {},
     "output_type": "execute_result"
    }
   ],
   "source": [
    "y.shape"
   ]
  },
  {
   "cell_type": "code",
   "execution_count": 20,
   "id": "4efb4ac1",
   "metadata": {},
   "outputs": [
    {
     "data": {
      "text/plain": [
       "<AxesSubplot:>"
      ]
     },
     "execution_count": 20,
     "metadata": {},
     "output_type": "execute_result"
    },
    {
     "data": {
      "image/png": "[encoded data removed]",
      "text/plain": [
       "<Figure size 720x720 with 2 Axes>"
      ]
     },
     "metadata": {
      "needs_background": "light"
     },
     "output_type": "display_data"
    }
   ],
   "source": [
    "#Chequeo colinearidad\n",
    "import matplotlib.pyplot as plt\n",
    "import seaborn as sns\n",
    "\n",
    "plt.figure(figsize=(10,10))\n",
    "sns.heatmap(X.corr(), annot=True, vmin=-1, cmap='Blues')"
   ]
  },
  {
   "cell_type": "code",
   "execution_count": 21,
   "id": "6e24e13d",
   "metadata": {},
   "outputs": [],
   "source": [
    "#Divido los datos en train y test\n",
    "\n",
    "from sklearn.model_selection import train_test_split\n",
    "\n",
    "X_train, X_test, y_train, y_test = train_test_split(X,y, stratify=y, random_state=12)"
   ]
  },
  {
   "cell_type": "code",
   "execution_count": 22,
   "id": "b715e01a",
   "metadata": {},
   "outputs": [],
   "source": [
    "# Utilizamos sklearn para estandarizar la matriz de Features\n",
    "from sklearn.preprocessing import StandardScaler\n",
    "scaler = StandardScaler()\n",
    "X_train_scaled = scaler.fit_transform(X_train)"
   ]
  },
  {
   "cell_type": "code",
   "execution_count": 23,
   "id": "673e1497",
   "metadata": {},
   "outputs": [
    {
     "name": "stdout",
     "output_type": "stream",
     "text": [
      "[[-0.11985741  0.06001666  0.76045678 -0.38137375  1.4711791  -0.51099433\n",
      "   0.06290842  0.19766265]]\n",
      "[-1.83037632]\n"
     ]
    }
   ],
   "source": [
    "#Importamos e instanciamos el modelo de regresión logística con regularización de tipo Elastic Net\n",
    "\n",
    "from sklearn.linear_model import LogisticRegression\n",
    "\n",
    "logistic_regression = LogisticRegression(solver = \"saga\", penalty=\"elasticnet\", l1_ratio = 0.5, C = 0.5)\n",
    "\n",
    "# Ajustamos el modelo\n",
    "logistic_regression.fit(X_train_scaled, y_train)\n",
    "# Y visualizamos los coeficientes\n",
    "print(logistic_regression.coef_)\n",
    "print(logistic_regression.intercept_)"
   ]
  },
  {
   "cell_type": "code",
   "execution_count": 24,
   "id": "83433a63",
   "metadata": {},
   "outputs": [],
   "source": [
    "# Hacemos predicciones con el modelo entrenado\n",
    "# Notar que debemos escalar los datos de testeo antes de realizar predicciones\n",
    "\n",
    "y_train_pred = logistic_regression.predict(X_train_scaled)\n",
    "y_test_pred = logistic_regression.predict(scaler.transform(X_test))"
   ]
  },
  {
   "cell_type": "code",
   "execution_count": 25,
   "metadata": {},
   "outputs": [
    {
     "data": {
      "text/plain": [
       "array([[20834,  1143],\n",
       "       [ 3207,  3048]])"
      ]
     },
     "execution_count": 25,
     "metadata": {},
     "output_type": "execute_result"
    }
   ],
   "source": [
    "# Elaboramos la matriz de confusión\n",
    "\n",
    "from sklearn.metrics import confusion_matrix\n",
    "cm = confusion_matrix(y_test, y_test_pred)\n",
    "cm"
   ]
  },
  {
   "cell_type": "code",
   "execution_count": 26,
   "id": "f3d8bb02",
   "metadata": {},
   "outputs": [
    {
     "data": {
      "text/plain": [
       "Text(0.5, 15.0, 'Etiquetas predichas')"
      ]
     },
     "execution_count": 26,
     "metadata": {},
     "output_type": "execute_result"
    },
    {
     "data": {
      "image/png": "[encoded data removed]",
      "text/plain": [
       "<Figure size 432x288 with 2 Axes>"
      ]
     },
     "metadata": {
      "needs_background": "light"
     },
     "output_type": "display_data"
    }
   ],
   "source": [
    "# Graficamos la matriz de confusión\n",
    "\n",
    "from sklearn.metrics import confusion_matrix\n",
    "import seaborn as sns\n",
    "\n",
    "confusion_matrix(y_test, y_test_pred)\n",
    "sns.heatmap(confusion_matrix(y_test, y_test_pred), annot=True, fmt='.0f')\n",
    "plt.ylabel('Etiquetas reales')\n",
    "plt.xlabel('Etiquetas predichas')"
   ]
  },
  {
   "cell_type": "code",
   "execution_count": 27,
   "metadata": {},
   "outputs": [
    {
     "name": "stdout",
     "output_type": "stream",
     "text": [
      "TP:  3048  TN:  20834  FP:  1143  FN:  3207\n"
     ]
    }
   ],
   "source": [
    "TP = cm[1, 1]; TN = cm[0, 0] ; FP = cm[0, 1] ; FN = cm[1, 0]\n",
    "print('TP: ', TP,' TN: ', TN,' FP: ',FP,' FN: ',FN )"
   ]
  },
  {
   "cell_type": "code",
   "execution_count": 28,
   "id": "554322ad",
   "metadata": {},
   "outputs": [
    {
     "data": {
      "text/plain": [
       "0.8459195239444602"
      ]
     },
     "execution_count": 28,
     "metadata": {},
     "output_type": "execute_result"
    }
   ],
   "source": [
    "# Calculemos el accuracy\n",
    "\n",
    "from sklearn.metrics import accuracy_score\n",
    "\n",
    "accuracy_score(y_test, y_test_pred)"
   ]
  },
  {
   "cell_type": "code",
   "execution_count": 29,
   "metadata": {},
   "outputs": [
    {
     "name": "stdout",
     "output_type": "stream",
     "text": [
      "Accuracy= 0.8459195239444602\n",
      "Total de casos correctamente predichos (TP+TN) = 23882\n",
      "Total de casos (TP+TN+FP+FN) = 28232\n"
     ]
    }
   ],
   "source": [
    "print('Accuracy=', (TP+TN)/ (TP+TN+FP+FN))\n",
    "print('Total de casos correctamente predichos (TP+TN) =',(TP+TN))\n",
    "print('Total de casos (TP+TN+FP+FN) =',(TP+TN+FP+FN))"
   ]
  },
  {
   "cell_type": "code",
   "execution_count": 30,
   "metadata": {},
   "outputs": [
    {
     "data": {
      "text/plain": [
       "0.48729016786570745"
      ]
     },
     "execution_count": 30,
     "metadata": {},
     "output_type": "execute_result"
    }
   ],
   "source": [
    "# Calculemos el recall\n",
    "\n",
    "from sklearn.metrics import recall_score\n",
    "\n",
    "recall_score(y_test, y_test_pred)"
   ]
  },
  {
   "cell_type": "code",
   "execution_count": 31,
   "metadata": {},
   "outputs": [
    {
     "name": "stdout",
     "output_type": "stream",
     "text": [
      "Recall= 0.48729016786570745\n",
      "Total de casos positivos predichos correctamente (TP) = 3048\n",
      "Total de casos positivos reales (TP+FN) = 6255\n"
     ]
    }
   ],
   "source": [
    "print('Recall=', (TP)/ (TP+FN))\n",
    "print('Total de casos positivos predichos correctamente (TP) =',(TP))\n",
    "print('Total de casos positivos reales (TP+FN) =',(TP+FN))"
   ]
  },
  {
   "cell_type": "code",
   "execution_count": 32,
   "metadata": {},
   "outputs": [
    {
     "name": "stdout",
     "output_type": "stream",
     "text": [
      "0.7272727272727273\n"
     ]
    }
   ],
   "source": [
    "# Calculemos la precision\n",
    "\n",
    "from sklearn.metrics import precision_score\n",
    "print(precision_score(y_test, y_test_pred))"
   ]
  },
  {
   "cell_type": "code",
   "execution_count": 33,
   "metadata": {},
   "outputs": [
    {
     "name": "stdout",
     "output_type": "stream",
     "text": [
      "Specificity= 0.9479910815852938\n",
      "Total de casos negativos predichos correctamente (TN) = 20834\n",
      "Total de casos negativos (TN+FP) = 21977\n"
     ]
    }
   ],
   "source": [
    "# Calculemos la specificity\n",
    "\n",
    "print('Specificity=', (TN)/ (TN+FP))\n",
    "print('Total de casos negativos predichos correctamente (TN) =',(TN))\n",
    "print('Total de casos negativos (TN+FP) =',(TN+FP))"
   ]
  },
  {
   "cell_type": "code",
   "execution_count": 34,
   "metadata": {},
   "outputs": [
    {
     "name": "stdout",
     "output_type": "stream",
     "text": [
      "0.5835726593911544\n"
     ]
    }
   ],
   "source": [
    "# Calculemos la metrica F1\n",
    "\n",
    "from sklearn.metrics import f1_score\n",
    "\n",
    "print(f1_score(y_test, y_test_pred))"
   ]
  },
  {
   "cell_type": "markdown",
   "metadata": {},
   "source": [
    "# Primeras conclusiones\n",
    "\n",
    "### Estamos teniendo un porcentaje muy alto de Falsos Negativos, es decir, días que se predijo que no llovía y llovió.\n",
    "### Esto se refleja en un bajo Recall, que ronda el 50%. Sólo logramos \"capturar\" la mitad de los días que llueve en nuestra predicción."
   ]
  },
  {
   "cell_type": "markdown",
   "metadata": {},
   "source": [
    "# Evaluación del umbral del modelo\n",
    "\n",
    "### No hay que perder de vista que en el modelo de regresión logística estamos obteniendo probabilidades de occurencia que resultan en una clasificación binaria a partir de un umbral de probabilidad determinado, que es 0.5 por defecto.\n",
    "\n",
    "### En la siguiente sección analizaremos como responde el modelo ante cambios en el umbral usado."
   ]
  },
  {
   "cell_type": "code",
   "execution_count": 35,
   "metadata": {},
   "outputs": [
    {
     "data": {
      "image/png": "[encoded data removed]",
      "text/plain": [
       "<Figure size 432x288 with 1 Axes>"
      ]
     },
     "metadata": {
      "needs_background": "light"
     },
     "output_type": "display_data"
    }
   ],
   "source": [
    "# Graficamos el ROC\n",
    "\n",
    "from sklearn.metrics import roc_curve\n",
    "import matplotlib.pyplot as plt\n",
    "import numpy as np\n",
    "%matplotlib inline\n",
    "\n",
    "y_test_pred_proba = logistic_regression.predict_proba(scaler.transform(X_test))\n",
    "\n",
    "fpr_log,tpr_log,thr_log = roc_curve(y_test, y_test_pred_proba[:,1])\n",
    "\n",
    "datafr = pd.DataFrame(dict(fpr=fpr_log, tpr=tpr_log, thr = thr_log))\n",
    "\n",
    "plt.axis([0, 1.01, 0, 1.01])\n",
    "plt.xlabel('1 - Specificty'); plt.ylabel('TPR / Sensitivity'); plt.title('ROC Curve')\n",
    "plt.plot(datafr['fpr'],datafr['tpr'])\n",
    "plt.plot(np.arange(0,1, step =0.01), np.arange(0,1, step =0.01))\n",
    "plt.show()\n"
   ]
  },
  {
   "cell_type": "code",
   "execution_count": 36,
   "metadata": {},
   "outputs": [],
   "source": [
    "from sklearn.metrics import accuracy_score\n",
    "\n",
    "threshold = np.linspace(0.05,0.95,num=37)\n",
    "accuracy = []\n",
    "\n",
    "for p in threshold:\n",
    "  y_pred = (logistic_regression.predict_proba(scaler.transform(X_test))[:,1] >= p).astype(int)\n",
    "  accuracy.append(accuracy_score(y_test,y_pred))\n",
    "\n"
   ]
  },
  {
   "cell_type": "code",
   "execution_count": 37,
   "metadata": {},
   "outputs": [
    {
     "data": {
      "image/png": "[encoded data removed]",
      "text/plain": [
       "<Figure size 432x288 with 1 Axes>"
      ]
     },
     "metadata": {
      "needs_background": "light"
     },
     "output_type": "display_data"
    }
   ],
   "source": [
    "plt.scatter(threshold,accuracy)\n",
    "plt.xlabel(\"Threshold\")\n",
    "plt.ylabel(\"Accuracy\")\n",
    "plt.show()"
   ]
  },
  {
   "cell_type": "code",
   "execution_count": 38,
   "metadata": {},
   "outputs": [
    {
     "data": {
      "text/plain": [
       "0.475"
      ]
     },
     "execution_count": 38,
     "metadata": {},
     "output_type": "execute_result"
    }
   ],
   "source": [
    "threshold[np.argmax(accuracy)]"
   ]
  },
  {
   "cell_type": "markdown",
   "metadata": {},
   "source": [
    "# Análisis del umbral\n",
    "\n",
    "### Vemos que modificar el umbral no brindará mejores resultados respecto al rendimiento global del modelo.\n",
    "### Los cambios en el umbral dependerán de qué error de falsa predicción querramos evitar."
   ]
  },
  {
   "cell_type": "code",
   "execution_count": 122,
   "metadata": {},
   "outputs": [
    {
     "data": {
      "text/plain": [
       "(0.0, 1.0)"
      ]
     },
     "execution_count": 122,
     "metadata": {},
     "output_type": "execute_result"
    },
    {
     "data": {
      "image/png": "[encoded data removed]",
      "text/plain": [
       "<Figure size 432x288 with 1 Axes>"
      ]
     },
     "metadata": {
      "needs_background": "light"
     },
     "output_type": "display_data"
    }
   ],
   "source": [
    "#Vamos a graficar el efecto del threshold en Precision y Recall\n",
    "\n",
    "pred_y=logistic_regression.predict(scaler.transform(X_test)) \n",
    "\n",
    "probs_y=logistic_regression.predict_proba(scaler.transform(X_test)) \n",
    "\n",
    "from sklearn import metrics\n",
    "\n",
    "precision, recall, thresholds = metrics.precision_recall_curve(y_test, probs_y[:, 1]) \n",
    "   \n",
    "pr_auc = metrics.auc(recall, precision)\n",
    "\n",
    "plt.title(\"Precision-Recall vs Threshold Chart\")\n",
    "plt.plot(thresholds, precision[: -1], \"b--\", label=\"Precision\")\n",
    "plt.plot(thresholds, recall[: -1], \"r--\", label=\"Recall\")\n",
    "plt.ylabel(\"Precision, Recall\")\n",
    "plt.xlabel(\"Threshold\")\n",
    "plt.legend(loc=\"lower left\")\n",
    "plt.ylim([0,1])"
   ]
  },
  {
   "cell_type": "markdown",
   "metadata": {},
   "source": [
    "# Solución Propuesta al bajo recall\n",
    "\n",
    "### Vamos a calibrar el umbral con el cual el modelo predice que lloverá."
   ]
  },
  {
   "cell_type": "code",
   "execution_count": 123,
   "metadata": {},
   "outputs": [],
   "source": [
    "#Sobre-escribimos el umbral por defecto de LogisticRegression que es 0.5 con 0.4\n",
    "\n",
    "from sklearn.preprocessing import binarize\n",
    "\n",
    "y_pred_04 = binarize(y_test_pred_proba, threshold=0.4)[:,1]\n",
    "y_pred_04 = (y_test_pred_proba[:,1] > 0.4).astype(int)"
   ]
  },
  {
   "cell_type": "code",
   "execution_count": 124,
   "metadata": {},
   "outputs": [
    {
     "name": "stdout",
     "output_type": "stream",
     "text": [
      "Recall umbral 0.4= 0.581294964028777\n"
     ]
    }
   ],
   "source": [
    "print('Recall umbral 0.4=', recall_score(y_test, y_pred_04))"
   ]
  },
  {
   "cell_type": "code",
   "execution_count": 125,
   "metadata": {},
   "outputs": [
    {
     "name": "stdout",
     "output_type": "stream",
     "text": [
      "0.6608505997818975\n"
     ]
    }
   ],
   "source": [
    "print(precision_score(y_test, y_pred_04))"
   ]
  },
  {
   "cell_type": "code",
   "execution_count": 126,
   "metadata": {},
   "outputs": [
    {
     "name": "stdout",
     "output_type": "stream",
     "text": [
      "0.8411377160668745\n"
     ]
    }
   ],
   "source": [
    "print(accuracy_score(y_test, y_pred_04))"
   ]
  },
  {
   "cell_type": "code",
   "execution_count": 127,
   "metadata": {},
   "outputs": [
    {
     "name": "stdout",
     "output_type": "stream",
     "text": [
      "0.6185251339627457\n"
     ]
    }
   ],
   "source": [
    "print(f1_score(y_test, y_pred_04))"
   ]
  },
  {
   "cell_type": "code",
   "execution_count": 128,
   "metadata": {},
   "outputs": [
    {
     "name": "stdout",
     "output_type": "stream",
     "text": [
      "[[20111  1866]\n",
      " [ 2619  3636]]\n"
     ]
    },
    {
     "data": {
      "text/plain": [
       "Text(0.5, 15.0, 'Etiquetas predichas')"
      ]
     },
     "execution_count": 128,
     "metadata": {},
     "output_type": "execute_result"
    },
    {
     "data": {
      "image/png": "[encoded data removed]",
      "text/plain": [
       "<Figure size 432x288 with 2 Axes>"
      ]
     },
     "metadata": {
      "needs_background": "light"
     },
     "output_type": "display_data"
    }
   ],
   "source": [
    "print(confusion_matrix(y_test, y_pred_04))\n",
    "sns.heatmap(confusion_matrix(y_test, y_pred_04), annot=True, fmt='.0f')\n",
    "plt.ylabel('Etiquetas reales')\n",
    "plt.xlabel('Etiquetas predichas')"
   ]
  },
  {
   "cell_type": "markdown",
   "metadata": {},
   "source": [
    "# Conclusiones\n",
    "\n",
    "### Disminuir el umbral de predicción de 0.5 a 0.4 mejoró el recall pero bajó la precisión.\n",
    "### Respecto al accuracy total del modelo hubo una baja marginal mientras se mejoró el recall en 10 puntos porcentuales.\n",
    "### En definitiva, dependerá de qué tipo de error sea más conveniente evitar, un Falso Positivo o un Falso Negativo.  "
   ]
  },
  {
   "cell_type": "markdown",
   "metadata": {},
   "source": [
    "# CROSS VALIDATION"
   ]
  },
  {
   "cell_type": "code",
   "execution_count": 129,
   "metadata": {},
   "outputs": [
    {
     "name": "stdout",
     "output_type": "stream",
     "text": [
      "[[0.96600612 0.03399388]\n",
      " [0.95787241 0.04212759]\n",
      " [0.94825617 0.05174383]\n",
      " ...\n",
      " [0.99228899 0.00771101]\n",
      " [0.97476288 0.02523712]\n",
      " [0.98286718 0.01713282]]\n",
      "\n",
      "\n",
      "El score utilizando cross validation es: 0.8472348904139916\n"
     ]
    }
   ],
   "source": [
    "#Cross Validation\n",
    "\n",
    "from sklearn.preprocessing import StandardScaler\n",
    "from sklearn.linear_model import LogisticRegressionCV\n",
    "\n",
    "X = df[['Rainfall', 'WindGustSpeed',\n",
    "       'WindSpeed3pm', 'Humidity3pm',\n",
    "       'Pressure3pm', 'Temp3pm','RainToday_Yes']]\n",
    "y = df[\"RainTomorrow_Yes\"]\n",
    "\n",
    "scaler = StandardScaler()\n",
    "X = scaler.fit_transform(X)\n",
    "\n",
    "clf = LogisticRegressionCV(cv=5, random_state=0, solver='liblinear', max_iter=100).fit(X, y)\n",
    "\n",
    "clf.predict(X)\n",
    "\n",
    "print(clf.predict_proba(X))\n",
    "print(\"\\n\")\n",
    "print(\"El score utilizando cross validation es: \" + str(clf.score(X, y)))"
   ]
  },
  {
   "cell_type": "markdown",
   "id": "103376bf",
   "metadata": {},
   "source": [
    "# GRID SEARCH"
   ]
  },
  {
   "cell_type": "code",
   "execution_count": 130,
   "id": "3239dc41",
   "metadata": {},
   "outputs": [
    {
     "name": "stderr",
     "output_type": "stream",
     "text": [
      "/home/eduardo/anaconda3/envs/dhdsblend2021/lib/python3.8/site-packages/scipy/optimize/linesearch.py:327: LineSearchWarning: The line search algorithm did not converge\n",
      "  warn('The line search algorithm did not converge', LineSearchWarning)\n",
      "/home/eduardo/anaconda3/envs/dhdsblend2021/lib/python3.8/site-packages/sklearn/utils/optimize.py:204: UserWarning: Line Search failed\n",
      "  warnings.warn('Line Search failed')\n"
     ]
    },
    {
     "data": {
      "text/plain": [
       "GridSearchCV(cv=StratifiedKFold(n_splits=10, random_state=None, shuffle=False),\n",
       "             error_score=0, estimator=LogisticRegression(), n_jobs=-1,\n",
       "             param_grid={'penalty': ['l2', 'none'],\n",
       "                         'solver': ['lbfgs', 'newton-cg', 'sag']},\n",
       "             scoring='accuracy')"
      ]
     },
     "execution_count": 130,
     "metadata": {},
     "output_type": "execute_result"
    }
   ],
   "source": [
    "#Intentaremos encontrar los mejores hyperparametros de la regresión a través de una búsqueda en grilla\n",
    "\n",
    "from sklearn.model_selection import GridSearchCV\n",
    "from sklearn.model_selection import StratifiedKFold\n",
    "\n",
    "X = df[['MinTemp', 'Rainfall', 'WindGustSpeed',\n",
    "       'WindSpeed3pm', 'Humidity3pm',\n",
    "       'Pressure3pm', 'Temp3pm', 'RainToday_Yes']]\n",
    "y = df[\"RainTomorrow_Yes\"]\n",
    "\n",
    "scaler = StandardScaler()\n",
    "X_scaled = scaler.fit_transform(X)\n",
    "\n",
    "X_train, X_test, y_train, y_test = train_test_split(X_scaled, y, stratify=y)\n",
    "\n",
    "folds=StratifiedKFold(n_splits=10, shuffle=False)\n",
    "\n",
    "logistic_regression = LogisticRegression(max_iter=100)\n",
    "\n",
    "penalty = ['l2', 'none']\n",
    "\n",
    "solvers = ['lbfgs', 'newton-cg', 'sag']\n",
    "\n",
    "grid = dict(solver=solvers,penalty=penalty)\n",
    "\n",
    "grid_search = GridSearchCV(estimator=logistic_regression, param_grid=grid, n_jobs=-1, cv=folds, scoring='accuracy',error_score=0, verbose=0)\n",
    "grid_search.fit(X_train, y_train)\n",
    "\n",
    "\n"
   ]
  },
  {
   "cell_type": "code",
   "execution_count": 131,
   "id": "0b9c60c8",
   "metadata": {},
   "outputs": [
    {
     "name": "stdout",
     "output_type": "stream",
     "text": [
      "Mejor score: 0.846681 usando {'penalty': 'l2', 'solver': 'lbfgs'}\n",
      "0.846681 (0.004254) with: {'penalty': 'l2', 'solver': 'lbfgs'}\n",
      "0.846681 (0.004254) with: {'penalty': 'l2', 'solver': 'newton-cg'}\n",
      "0.846670 (0.004248) with: {'penalty': 'l2', 'solver': 'sag'}\n",
      "0.846670 (0.004274) with: {'penalty': 'none', 'solver': 'lbfgs'}\n",
      "0.846658 (0.004268) with: {'penalty': 'none', 'solver': 'newton-cg'}\n",
      "0.846681 (0.004247) with: {'penalty': 'none', 'solver': 'sag'}\n"
     ]
    }
   ],
   "source": [
    "print(\"Mejor score: %f usando %s\" % (grid_search.best_score_, grid_search.best_params_))\n",
    "means = grid_search.cv_results_['mean_test_score']\n",
    "stds = grid_search.cv_results_['std_test_score']\n",
    "params = grid_search.cv_results_['params']\n",
    "for mean, stdev, param in zip(means, stds, params):\n",
    "    print(\"%f (%f) with: %r\" % (mean, stdev, param))"
   ]
  },
  {
   "cell_type": "code",
   "execution_count": 132,
   "id": "a16c7f8e",
   "metadata": {},
   "outputs": [
    {
     "data": {
      "text/html": [
       "<div>\n",
       "<style scoped>\n",
       "    .dataframe tbody tr th:only-of-type {\n",
       "        vertical-align: middle;\n",
       "    }\n",
       "\n",
       "    .dataframe tbody tr th {\n",
       "        vertical-align: top;\n",
       "    }\n",
       "\n",
       "    .dataframe thead th {\n",
       "        text-align: right;\n",
       "    }\n",
       "</style>\n",
       "<table border=\"1\" class=\"dataframe\">\n",
       "  <thead>\n",
       "    <tr style=\"text-align: right;\">\n",
       "      <th></th>\n",
       "      <th>mean_fit_time</th>\n",
       "      <th>std_fit_time</th>\n",
       "      <th>mean_score_time</th>\n",
       "      <th>std_score_time</th>\n",
       "      <th>param_penalty</th>\n",
       "      <th>param_solver</th>\n",
       "      <th>params</th>\n",
       "      <th>split0_test_score</th>\n",
       "      <th>split1_test_score</th>\n",
       "      <th>split2_test_score</th>\n",
       "      <th>split3_test_score</th>\n",
       "      <th>split4_test_score</th>\n",
       "      <th>split5_test_score</th>\n",
       "      <th>split6_test_score</th>\n",
       "      <th>split7_test_score</th>\n",
       "      <th>split8_test_score</th>\n",
       "      <th>split9_test_score</th>\n",
       "      <th>mean_test_score</th>\n",
       "      <th>std_test_score</th>\n",
       "      <th>rank_test_score</th>\n",
       "    </tr>\n",
       "  </thead>\n",
       "  <tbody>\n",
       "    <tr>\n",
       "      <th>0</th>\n",
       "      <td>0.105911</td>\n",
       "      <td>0.015028</td>\n",
       "      <td>0.001210</td>\n",
       "      <td>0.000197</td>\n",
       "      <td>l2</td>\n",
       "      <td>lbfgs</td>\n",
       "      <td>{'penalty': 'l2', 'solver': 'lbfgs'}</td>\n",
       "      <td>0.848052</td>\n",
       "      <td>0.855372</td>\n",
       "      <td>0.846753</td>\n",
       "      <td>0.846971</td>\n",
       "      <td>0.848861</td>\n",
       "      <td>0.840477</td>\n",
       "      <td>0.846971</td>\n",
       "      <td>0.848861</td>\n",
       "      <td>0.839414</td>\n",
       "      <td>0.845082</td>\n",
       "      <td>0.846681</td>\n",
       "      <td>0.004254</td>\n",
       "      <td>1</td>\n",
       "    </tr>\n",
       "    <tr>\n",
       "      <th>1</th>\n",
       "      <td>0.473101</td>\n",
       "      <td>0.068736</td>\n",
       "      <td>0.001145</td>\n",
       "      <td>0.000270</td>\n",
       "      <td>l2</td>\n",
       "      <td>newton-cg</td>\n",
       "      <td>{'penalty': 'l2', 'solver': 'newton-cg'}</td>\n",
       "      <td>0.848052</td>\n",
       "      <td>0.855372</td>\n",
       "      <td>0.846753</td>\n",
       "      <td>0.846971</td>\n",
       "      <td>0.848861</td>\n",
       "      <td>0.840477</td>\n",
       "      <td>0.846971</td>\n",
       "      <td>0.848861</td>\n",
       "      <td>0.839414</td>\n",
       "      <td>0.845082</td>\n",
       "      <td>0.846681</td>\n",
       "      <td>0.004254</td>\n",
       "      <td>1</td>\n",
       "    </tr>\n",
       "    <tr>\n",
       "      <th>5</th>\n",
       "      <td>0.574504</td>\n",
       "      <td>0.149487</td>\n",
       "      <td>0.000838</td>\n",
       "      <td>0.000059</td>\n",
       "      <td>none</td>\n",
       "      <td>sag</td>\n",
       "      <td>{'penalty': 'none', 'solver': 'sag'}</td>\n",
       "      <td>0.848052</td>\n",
       "      <td>0.855372</td>\n",
       "      <td>0.846753</td>\n",
       "      <td>0.846971</td>\n",
       "      <td>0.848742</td>\n",
       "      <td>0.840595</td>\n",
       "      <td>0.846971</td>\n",
       "      <td>0.848861</td>\n",
       "      <td>0.839296</td>\n",
       "      <td>0.845200</td>\n",
       "      <td>0.846681</td>\n",
       "      <td>0.004247</td>\n",
       "      <td>1</td>\n",
       "    </tr>\n",
       "  </tbody>\n",
       "</table>\n",
       "</div>"
      ],
      "text/plain": [
       "   mean_fit_time  std_fit_time  mean_score_time  std_score_time param_penalty  \\\n",
       "0       0.105911      0.015028         0.001210        0.000197            l2   \n",
       "1       0.473101      0.068736         0.001145        0.000270            l2   \n",
       "5       0.574504      0.149487         0.000838        0.000059          none   \n",
       "\n",
       "  param_solver                                    params  split0_test_score  \\\n",
       "0        lbfgs      {'penalty': 'l2', 'solver': 'lbfgs'}           0.848052   \n",
       "1    newton-cg  {'penalty': 'l2', 'solver': 'newton-cg'}           0.848052   \n",
       "5          sag      {'penalty': 'none', 'solver': 'sag'}           0.848052   \n",
       "\n",
       "   split1_test_score  split2_test_score  split3_test_score  split4_test_score  \\\n",
       "0           0.855372           0.846753           0.846971           0.848861   \n",
       "1           0.855372           0.846753           0.846971           0.848861   \n",
       "5           0.855372           0.846753           0.846971           0.848742   \n",
       "\n",
       "   split5_test_score  split6_test_score  split7_test_score  split8_test_score  \\\n",
       "0           0.840477           0.846971           0.848861           0.839414   \n",
       "1           0.840477           0.846971           0.848861           0.839414   \n",
       "5           0.840595           0.846971           0.848861           0.839296   \n",
       "\n",
       "   split9_test_score  mean_test_score  std_test_score  rank_test_score  \n",
       "0           0.845082         0.846681        0.004254                1  \n",
       "1           0.845082         0.846681        0.004254                1  \n",
       "5           0.845200         0.846681        0.004247                1  "
      ]
     },
     "execution_count": 132,
     "metadata": {},
     "output_type": "execute_result"
    }
   ],
   "source": [
    "pd.DataFrame(grid_search.cv_results_).sort_values(by=['rank_test_score'],ascending=True).iloc[:3,:]"
   ]
  },
  {
   "cell_type": "code",
   "execution_count": 133,
   "id": "fe5d0308",
   "metadata": {},
   "outputs": [
    {
     "name": "stdout",
     "output_type": "stream",
     "text": [
      "LogisticRegression()\n",
      "0.8466814242874527\n",
      "{'penalty': 'l2', 'solver': 'lbfgs'}\n"
     ]
    }
   ],
   "source": [
    "print (grid_search.best_estimator_)\n",
    "print(grid_search.best_score_)\n",
    "print(grid_search.best_params_)"
   ]
  },
  {
   "cell_type": "code",
   "execution_count": 134,
   "id": "56605cbe",
   "metadata": {},
   "outputs": [],
   "source": [
    "y_pred_grid = grid_search.predict(X_test)"
   ]
  },
  {
   "cell_type": "code",
   "execution_count": 135,
   "id": "7bf93081",
   "metadata": {},
   "outputs": [
    {
     "name": "stdout",
     "output_type": "stream",
     "text": [
      "              precision    recall  f1-score   support\n",
      "\n",
      "           0       0.87      0.95      0.91     21977\n",
      "           1       0.73      0.50      0.60      6255\n",
      "\n",
      "    accuracy                           0.85     28232\n",
      "   macro avg       0.80      0.73      0.75     28232\n",
      "weighted avg       0.84      0.85      0.84     28232\n",
      "\n"
     ]
    }
   ],
   "source": [
    "from sklearn.metrics import classification_report, confusion_matrix\n",
    "print (classification_report(y_test, y_pred_grid))"
   ]
  },
  {
   "cell_type": "code",
   "execution_count": 136,
   "id": "5c18c048",
   "metadata": {},
   "outputs": [
    {
     "name": "stdout",
     "output_type": "stream",
     "text": [
      "[[20835  1142]\n",
      " [ 3110  3145]]\n"
     ]
    }
   ],
   "source": [
    "confusion = confusion_matrix(y_test, y_pred_grid)\n",
    "print(confusion)"
   ]
  },
  {
   "cell_type": "markdown",
   "id": "2427412d",
   "metadata": {},
   "source": [
    "### Conclusión: El túneo de hiperparámetros no generó ganancias significativas en Accuracy ni en Recall, los mejores resultados en términos de Recall se obtuvieron mediante el cambio del umbral de clasificación con una penalidad mínima en el Accuracy total."
   ]
  },
  {
   "cell_type": "markdown",
   "id": "7d9b2143",
   "metadata": {},
   "source": [
    "# Boosting"
   ]
  },
  {
   "cell_type": "markdown",
   "id": "c9cdd6fe",
   "metadata": {},
   "source": [
    "- Técnica de ensamble en la que el entrenamiento es secuencial"
   ]
  },
  {
   "cell_type": "code",
   "execution_count": 137,
   "id": "ee341bc6",
   "metadata": {},
   "outputs": [
    {
     "name": "stdout",
     "output_type": "stream",
     "text": [
      "Accuracy: 0.8457778407480873\n"
     ]
    }
   ],
   "source": [
    "#Modelo de boosting AdaBoost\n",
    "\n",
    "############################\n",
    "\n",
    "from sklearn.ensemble import AdaBoostClassifier\n",
    "\n",
    "#Defino el modelo nuevamente\n",
    "\n",
    "X = df[['MinTemp', 'Rainfall', 'WindGustSpeed',\n",
    "       'WindSpeed3pm', 'Humidity3pm',\n",
    "       'Pressure3pm', 'Temp3pm', 'RainToday_Yes']]\n",
    "y = df[\"RainTomorrow_Yes\"]\n",
    "\n",
    "X_train, X_test, y_train, y_test = train_test_split(X,y, stratify=y, random_state=12)\n",
    "\n",
    "scaler = StandardScaler()\n",
    "X_train_scaled = scaler.fit_transform(X_train)\n",
    "X_test_scaled = scaler.transform(X_test)\n",
    "\n",
    "base_regressor = LogisticRegression(solver = \"lbfgs\", penalty=\"l2\", C = 0.5)\n",
    "\n",
    "#Utilizo el modelo de AdaBoost\n",
    "\n",
    "boost_logreg = AdaBoostClassifier(base_estimator = base_regressor, n_estimators = 200, learning_rate = 1)\n",
    "\n",
    "boost_logreg.fit(X_train_scaled, y_train)\n",
    "\n",
    "y_pred = boost_logreg.predict(X_test_scaled)\n",
    "\n",
    "print(\"Accuracy:\",accuracy_score(y_test, y_pred))\n"
   ]
  },
  {
   "cell_type": "code",
   "execution_count": 138,
   "id": "7d1513c7",
   "metadata": {},
   "outputs": [
    {
     "data": {
      "text/plain": [
       "0.8457778407480873"
      ]
     },
     "execution_count": 138,
     "metadata": {},
     "output_type": "execute_result"
    }
   ],
   "source": [
    "boost_logreg.score(X_test_scaled, y_test)"
   ]
  },
  {
   "cell_type": "code",
   "execution_count": 139,
   "id": "dd6b3587",
   "metadata": {},
   "outputs": [
    {
     "name": "stdout",
     "output_type": "stream",
     "text": [
      "[[20821  1156]\n",
      " [ 3198  3057]]\n"
     ]
    },
    {
     "data": {
      "text/plain": [
       "Text(0.5, 15.0, 'Etiquetas predichas')"
      ]
     },
     "execution_count": 139,
     "metadata": {},
     "output_type": "execute_result"
    },
    {
     "data": {
      "image/png": "[encoded data removed]",
      "text/plain": [
       "<Figure size 432x288 with 2 Axes>"
      ]
     },
     "metadata": {
      "needs_background": "light"
     },
     "output_type": "display_data"
    }
   ],
   "source": [
    "print(confusion_matrix(y_test, y_pred))\n",
    "sns.heatmap(confusion_matrix(y_test, y_pred), annot=True, fmt='.0f')\n",
    "plt.ylabel('Etiquetas reales')\n",
    "plt.xlabel('Etiquetas predichas')"
   ]
  },
  {
   "cell_type": "code",
   "execution_count": 140,
   "id": "b2b29738",
   "metadata": {},
   "outputs": [
    {
     "name": "stdout",
     "output_type": "stream",
     "text": [
      "Accuracy: 0.8470529895154435\n"
     ]
    }
   ],
   "source": [
    "#Probamos AdaBoost sin definir un modelo base, por lo que tomará un modelo DecissionTreeClassifier con max_depth = 1\n",
    "\n",
    "boost_logreg = AdaBoostClassifier(n_estimators = 500, learning_rate = 0.75)\n",
    "\n",
    "boost_logreg.fit(X_train_scaled, y_train)\n",
    "\n",
    "y_pred = boost_logreg.predict(X_test_scaled)\n",
    "\n",
    "print(\"Accuracy:\",accuracy_score(y_test, y_pred))"
   ]
  },
  {
   "cell_type": "code",
   "execution_count": 142,
   "id": "2b6eef75",
   "metadata": {},
   "outputs": [
    {
     "name": "stdout",
     "output_type": "stream",
     "text": [
      "[[20843  1134]\n",
      " [ 3184  3071]]\n"
     ]
    },
    {
     "data": {
      "text/plain": [
       "Text(0.5, 15.0, 'Etiquetas predichas')"
      ]
     },
     "execution_count": 142,
     "metadata": {},
     "output_type": "execute_result"
    },
    {
     "data": {
      "image/png": "[encoded data removed]",
      "text/plain": [
       "<Figure size 432x288 with 2 Axes>"
      ]
     },
     "metadata": {
      "needs_background": "light"
     },
     "output_type": "display_data"
    }
   ],
   "source": [
    "print(confusion_matrix(y_test, y_pred))\n",
    "sns.heatmap(confusion_matrix(y_test, y_pred), annot=True, fmt='.0f', cmap=\"YlGn\")\n",
    "plt.ylabel('Etiquetas reales')\n",
    "plt.xlabel('Etiquetas predichas')"
   ]
  },
  {
   "cell_type": "code",
   "execution_count": 60,
   "id": "9d47479c",
   "metadata": {},
   "outputs": [
    {
     "name": "stdout",
     "output_type": "stream",
     "text": [
      "Recall  0.4909672262190248\n",
      "F1 Score  0.587189292543021\n"
     ]
    }
   ],
   "source": [
    "print(\"Recall \", recall_score(y_test, y_pred))\n",
    "\n",
    "print(\"F1 Score \", f1_score(y_test, y_pred))"
   ]
  },
  {
   "cell_type": "code",
   "execution_count": 61,
   "id": "957fa3e2",
   "metadata": {},
   "outputs": [],
   "source": [
    "# Modelo de boosting XGBoost\n",
    "\n",
    "############################\n",
    "\n",
    "# Descomentar la siguiente línea y correr en caso de necesitar instalar la librería:\n",
    "\n",
    "# !conda install --y xgboost\n",
    "\n",
    "from xgboost import XGBClassifier"
   ]
  },
  {
   "cell_type": "code",
   "execution_count": 62,
   "id": "89bf4fc0",
   "metadata": {},
   "outputs": [],
   "source": [
    "# Definimos los parámetros de tuneo del modelo a realizar por GridSearch\n",
    "\n",
    "params = {  \n",
    "    \"n_estimators\": [50,100,500],      # Number of boosted trees to fit.\n",
    "    \"max_depth\": [1,2,3,4],            # Maximum tree depth for base learners.\n",
    "    \"learning_rate\": [0.01, 0.1],      # Boosting learning rate (xgb’s “eta”)\n",
    "}"
   ]
  },
  {
   "cell_type": "code",
   "execution_count": 63,
   "id": "c80fe168",
   "metadata": {},
   "outputs": [],
   "source": [
    "from sklearn.model_selection import cross_val_score, StratifiedKFold\n",
    "\n",
    "cv = StratifiedKFold(n_splits=5, random_state=41, shuffle=True)"
   ]
  },
  {
   "cell_type": "code",
   "execution_count": 64,
   "id": "fcbc84a7",
   "metadata": {},
   "outputs": [],
   "source": [
    "# Instanciamos el modelo de XGBoost\n",
    "\n",
    "xgboost_model = XGBClassifier(n_jobs=-1, use_label_encoder=False, verbosity=0)"
   ]
  },
  {
   "cell_type": "code",
   "execution_count": 65,
   "id": "edcf56e2",
   "metadata": {},
   "outputs": [],
   "source": [
    "# Definimos la búsqueda en grilla.\n",
    "\n",
    "xg_grid = GridSearchCV(estimator= xgboost_model, param_grid=params, cv=cv)"
   ]
  },
  {
   "cell_type": "code",
   "execution_count": 66,
   "id": "6bc00696",
   "metadata": {},
   "outputs": [
    {
     "data": {
      "text/plain": [
       "GridSearchCV(cv=StratifiedKFold(n_splits=5, random_state=41, shuffle=True),\n",
       "             estimator=XGBClassifier(base_score=None, booster=None,\n",
       "                                     colsample_bylevel=None,\n",
       "                                     colsample_bynode=None,\n",
       "                                     colsample_bytree=None, gamma=None,\n",
       "                                     gpu_id=None, importance_type='gain',\n",
       "                                     interaction_constraints=None,\n",
       "                                     learning_rate=None, max_delta_step=None,\n",
       "                                     max_depth=None, min_child_weight=None,\n",
       "                                     missing=nan, monotone_constraints=None,\n",
       "                                     n_estimators=100, n_jobs=-1,\n",
       "                                     num_parallel_tree=None, random_state=None,\n",
       "                                     reg_alpha=None, reg_lambda=None,\n",
       "                                     scale_pos_weight=None, subsample=None,\n",
       "                                     tree_method=None, use_label_encoder=False,\n",
       "                                     validate_parameters=None, verbosity=0),\n",
       "             param_grid={'learning_rate': [0.01, 0.1],\n",
       "                         'max_depth': [1, 2, 3, 4],\n",
       "                         'n_estimators': [50, 100, 500]})"
      ]
     },
     "execution_count": 66,
     "metadata": {},
     "output_type": "execute_result"
    }
   ],
   "source": [
    "# Entrenamos el modelo de grilla\n",
    "\n",
    "xg_grid.fit(X_train_scaled, y_train)"
   ]
  },
  {
   "cell_type": "code",
   "execution_count": 67,
   "id": "4e473322",
   "metadata": {},
   "outputs": [
    {
     "data": {
      "text/plain": [
       "{'learning_rate': 0.1, 'max_depth': 4, 'n_estimators': 500}"
      ]
     },
     "execution_count": 67,
     "metadata": {},
     "output_type": "execute_result"
    }
   ],
   "source": [
    "# Mostramos los mejores parámetros encontrados para el modelo\n",
    "\n",
    "xg_grid.best_params_"
   ]
  },
  {
   "cell_type": "code",
   "execution_count": 68,
   "id": "00f3d58f",
   "metadata": {},
   "outputs": [],
   "source": [
    "#Configuramos un nuevo modelo con los parámetros óptimos\n",
    "\n",
    "xg_best = XGBClassifier(n_estimators=500, max_depth=4, learning_rate=0.1, n_jobs=-1, use_label_encoder=False, verbosity=0)"
   ]
  },
  {
   "cell_type": "code",
   "execution_count": 69,
   "id": "c45f4249",
   "metadata": {},
   "outputs": [
    {
     "data": {
      "text/plain": [
       "XGBClassifier(base_score=0.5, booster='gbtree', colsample_bylevel=1,\n",
       "              colsample_bynode=1, colsample_bytree=1, gamma=0, gpu_id=-1,\n",
       "              importance_type='gain', interaction_constraints='',\n",
       "              learning_rate=0.1, max_delta_step=0, max_depth=4,\n",
       "              min_child_weight=1, missing=nan, monotone_constraints='()',\n",
       "              n_estimators=500, n_jobs=-1, num_parallel_tree=1, random_state=0,\n",
       "              reg_alpha=0, reg_lambda=1, scale_pos_weight=1, subsample=1,\n",
       "              tree_method='exact', use_label_encoder=False,\n",
       "              validate_parameters=1, verbosity=0)"
      ]
     },
     "execution_count": 69,
     "metadata": {},
     "output_type": "execute_result"
    }
   ],
   "source": [
    "# Entrenamos\n",
    "\n",
    "xg_best.fit(X_train_scaled, y_train)"
   ]
  },
  {
   "cell_type": "code",
   "execution_count": 70,
   "id": "f8e688cd",
   "metadata": {},
   "outputs": [],
   "source": [
    "y_pred = xg_best.predict(X_test_scaled)"
   ]
  },
  {
   "cell_type": "code",
   "execution_count": 71,
   "id": "67390d19",
   "metadata": {},
   "outputs": [
    {
     "data": {
      "text/plain": [
       "0.7290038415643241"
      ]
     },
     "execution_count": 71,
     "metadata": {},
     "output_type": "execute_result"
    }
   ],
   "source": [
    "from sklearn.metrics import roc_auc_score\n",
    "\n",
    "roc_auc_score(y_test, y_pred)"
   ]
  },
  {
   "cell_type": "code",
   "execution_count": 72,
   "id": "cd434ded",
   "metadata": {},
   "outputs": [
    {
     "name": "stdout",
     "output_type": "stream",
     "text": [
      "Recall  0.5104716227018385\n",
      "F1 Score  0.6023960003773229\n"
     ]
    }
   ],
   "source": [
    "print(\"Recall \", recall_score(y_test, y_pred))\n",
    "\n",
    "print(\"F1 Score \", f1_score(y_test, y_pred))"
   ]
  },
  {
   "cell_type": "code",
   "execution_count": 73,
   "id": "811ac87b",
   "metadata": {},
   "outputs": [
    {
     "name": "stdout",
     "output_type": "stream",
     "text": [
      "Accuracy  0.8507013318220459\n"
     ]
    }
   ],
   "source": [
    "print(\"Accuracy \", accuracy_score(y_test, y_pred))"
   ]
  },
  {
   "cell_type": "code",
   "execution_count": 74,
   "id": "4f2a54c7",
   "metadata": {},
   "outputs": [
    {
     "name": "stdout",
     "output_type": "stream",
     "text": [
      "              precision    recall  f1-score   support\n",
      "\n",
      "           0       0.87      0.95      0.91     21977\n",
      "           1       0.73      0.51      0.60      6255\n",
      "\n",
      "    accuracy                           0.85     28232\n",
      "   macro avg       0.80      0.73      0.76     28232\n",
      "weighted avg       0.84      0.85      0.84     28232\n",
      "\n"
     ]
    }
   ],
   "source": [
    "print (classification_report(y_test, y_pred))"
   ]
  },
  {
   "cell_type": "code",
   "execution_count": 75,
   "id": "2f5f0756",
   "metadata": {},
   "outputs": [],
   "source": [
    "y_pred_xg_04 = xg_best.predict_proba(X_test_scaled)\n",
    "y_pred_xg_04 = binarize(y_pred_xg_04, threshold=0.4)[:,1]\n",
    "y_pred_xg_04 = (y_pred_xg_04 > 0.4).astype(int)"
   ]
  },
  {
   "cell_type": "code",
   "execution_count": 76,
   "id": "79994e93",
   "metadata": {},
   "outputs": [
    {
     "name": "stdout",
     "output_type": "stream",
     "text": [
      "Recall  0.5950439648281375\n",
      "F1 Score  0.631704005431093\n"
     ]
    }
   ],
   "source": [
    "print(\"Recall \", recall_score(y_test, y_pred_xg_04))\n",
    "\n",
    "print(\"F1 Score \", f1_score(y_test, y_pred_xg_04))"
   ]
  },
  {
   "cell_type": "code",
   "execution_count": 77,
   "id": "8098561c",
   "metadata": {},
   "outputs": [
    {
     "name": "stdout",
     "output_type": "stream",
     "text": [
      "Accuracy  0.8462737319353925\n"
     ]
    }
   ],
   "source": [
    "print(\"Accuracy \", accuracy_score(y_test, y_pred_xg_04))"
   ]
  },
  {
   "cell_type": "code",
   "execution_count": 78,
   "id": "19123bd1",
   "metadata": {},
   "outputs": [
    {
     "name": "stdout",
     "output_type": "stream",
     "text": [
      "[[20170  1807]\n",
      " [ 2533  3722]]\n"
     ]
    },
    {
     "data": {
      "text/plain": [
       "Text(0.5, 15.0, 'Etiquetas predichas')"
      ]
     },
     "execution_count": 78,
     "metadata": {},
     "output_type": "execute_result"
    },
    {
     "data": {
      "image/png": "[encoded data removed]",
      "text/plain": [
       "<Figure size 432x288 with 2 Axes>"
      ]
     },
     "metadata": {
      "needs_background": "light"
     },
     "output_type": "display_data"
    }
   ],
   "source": [
    "print(confusion_matrix(y_test, y_pred_xg_04))\n",
    "sns.heatmap(confusion_matrix(y_test, y_pred_xg_04), annot=True, fmt='.0f', cmap=\"YlGnBu\")\n",
    "plt.ylabel('Etiquetas reales')\n",
    "plt.xlabel('Etiquetas predichas')"
   ]
  },
  {
   "cell_type": "code",
   "execution_count": 79,
   "id": "aeeccbbe",
   "metadata": {},
   "outputs": [
    {
     "name": "stdout",
     "output_type": "stream",
     "text": [
      "              precision    recall  f1-score   support\n",
      "\n",
      "           0       0.89      0.92      0.90     21977\n",
      "           1       0.67      0.60      0.63      6255\n",
      "\n",
      "    accuracy                           0.85     28232\n",
      "   macro avg       0.78      0.76      0.77     28232\n",
      "weighted avg       0.84      0.85      0.84     28232\n",
      "\n"
     ]
    }
   ],
   "source": [
    "print (classification_report(y_test, y_pred_xg_04))"
   ]
  },
  {
   "cell_type": "code",
   "execution_count": 80,
   "id": "d69b22c1",
   "metadata": {},
   "outputs": [
    {
     "data": {
      "image/png": "[encoded data removed]",
      "text/plain": [
       "<Figure size 432x288 with 1 Axes>"
      ]
     },
     "metadata": {
      "needs_background": "light"
     },
     "output_type": "display_data"
    }
   ],
   "source": [
    "from sklearn.metrics import plot_roc_curve\n",
    "import matplotlib.pyplot as plt\n",
    "\n",
    "plot_roc_curve(xg_best, X_test_scaled, y_test)\n",
    "plt.show()"
   ]
  },
  {
   "cell_type": "code",
   "execution_count": 83,
   "id": "2f0179e7",
   "metadata": {},
   "outputs": [
    {
     "name": "stdout",
     "output_type": "stream",
     "text": [
      "Area Under Curve score  0.756410820745051\n"
     ]
    }
   ],
   "source": [
    "print(\"Area Under Curve score \", roc_auc_score(y_test, y_pred_xg_04))"
   ]
  }
 ],
 "metadata": {
  "interpreter": {
   "hash": "e57abe0607290a283c7939977d3c355266741152ec25fd8776da7bf061a711a6"
  },
  "kernelspec": {
   "display_name": "Python 3.8.11 64-bit ('dhdsblend2021': conda)",
   "name": "python3"
  },
  "language_info": {
   "codemirror_mode": {
    "name": "ipython",
    "version": 3
   },
   "file_extension": ".py",
   "mimetype": "text/x-python",
   "name": "python",
   "nbconvert_exporter": "python",
   "pygments_lexer": "ipython3",
   "version": "3.8.12"
  }
 },
 "nbformat": 4,
 "nbformat_minor": 5
}
